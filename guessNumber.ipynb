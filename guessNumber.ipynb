{
 "cells": [
  {
   "cell_type": "code",
   "execution_count": 63,
   "metadata": {},
   "outputs": [],
   "source": [
    "\n",
    "import numpy as np\n",
    "from torch import nn\n",
    "from PIL import Image, ImageOps\n",
    "import cv2\n",
    "import torch\n",
    "import torch.nn as nn\n",
    "import torchvision.transforms as transforms\n",
    "import torchvision.models as models\n",
    "from tensorflow.keras.preprocessing import image\n",
    "import matplotlib.pyplot as plt\n",
    "from torch.utils.data import DataLoader\n",
    "from torchvision import datasets\n",
    "import matplotlib.image as mpimg\n",
    "\n",
    "import os\n",
    "from keras.applications.vgg16 import VGG16\n",
    "import kagglehub\n",
    "\n"
   ]
  },
  {
   "cell_type": "code",
   "execution_count": 64,
   "metadata": {},
   "outputs": [
    {
     "name": "stdout",
     "output_type": "stream",
     "text": [
      "torch.Size([64, 1, 28, 28])\n",
      "torch.Size([64]) torch.int64\n"
     ]
    }
   ],
   "source": [
    "transform = transforms.Compose([transforms.ToTensor(), transforms.Normalize((0.1307,), (0.3081,))])\n",
    "\n",
    "idx1_dataset = datasets.MNIST(root='./data', train=True, download=True, transform=transform)\n",
    "loader = DataLoader(idx1_dataset, batch_size=64, shuffle=True)\n",
    "\n",
    "idx1_test = datasets.MNIST(root='./data', train=False, download=True, transform=transform)\n",
    "loaderTest = DataLoader(idx1_test, batch_size=64, shuffle=True)\n",
    "\n",
    "\n",
    "for X,y in loader:\n",
    "    print(X.shape)\n",
    "    print(y.shape, y.dtype)\n",
    "    break\n",
    "\n"
   ]
  },
  {
   "cell_type": "code",
   "execution_count": 65,
   "metadata": {},
   "outputs": [
    {
     "name": "stdout",
     "output_type": "stream",
     "text": [
      "device: mps\n"
     ]
    }
   ],
   "source": [
    "device = (\"cuda\" if torch.cuda.is_available() else \"mps\" if torch.backends.mps.is_available() else \"cpu\")\n",
    "\n",
    "print(f\"device: {device}\")"
   ]
  },
  {
   "cell_type": "code",
   "execution_count": 66,
   "metadata": {},
   "outputs": [],
   "source": [
    "class NueralNetwork(nn.Module):\n",
    "    def __init__(self):\n",
    "        super().__init__()\n",
    "        self.flatten = nn.Flatten()\n",
    "        self.network = nn.Sequential(nn.Linear(28*28, 512), \n",
    "                                     nn.ReLU(), \n",
    "                                     nn.Linear(512, 512),\n",
    "                                     nn.ReLU(),\n",
    "                                     nn.Linear(512,10))\n",
    "\n",
    "    def forward(self, x):\n",
    "        x = self.flatten(x)\n",
    "        logits = self.network(x)\n",
    "        return logits\n",
    "\n",
    "\n",
    "class ConvolutionalNueralNetwork(nn.Module):\n",
    "    def __init__(self):\n",
    "        super().__init__()\n",
    "        self.conv1 = nn.Conv2d(in_channels = 1, out_channels=16, kernel_size=3, padding = 1, stride = 1)\n",
    "        self.conv2 = nn.Conv2d(in_channels=)\n",
    "\n",
    "        \n",
    "        "
   ]
  },
  {
   "cell_type": "code",
   "execution_count": 67,
   "metadata": {},
   "outputs": [],
   "source": [
    "model = NueralNetwork().to(device)"
   ]
  },
  {
   "cell_type": "code",
   "execution_count": 68,
   "metadata": {},
   "outputs": [
    {
     "name": "stdout",
     "output_type": "stream",
     "text": [
      "<enumerate object at 0x317c37420>\n"
     ]
    },
    {
     "data": {
      "image/png": "[encoded data removed]",
      "text/plain": [
       "<Figure size 640x480 with 6 Axes>"
      ]
     },
     "metadata": {},
     "output_type": "display_data"
    }
   ],
   "source": [
    "examples = enumerate(loaderTest)\n",
    "batch_idx, (example_data, example_targets) = next(examples)\n",
    "\n",
    "print(examples)\n",
    "\n",
    "fig = plt.figure()\n",
    "for i in range(6):\n",
    "    plt.subplot(2,3,i+1)\n",
    "    plt.tight_layout()\n",
    "    plt.imshow(example_data[i][0], cmap=\"gray\", interpolation='none')\n",
    "    plt.title(\"Ground Truth: {}\".format(example_targets[i]))\n",
    "    plt.xticks([])\n",
    "    plt.yticks([])"
   ]
  },
  {
   "cell_type": "code",
   "execution_count": 69,
   "metadata": {},
   "outputs": [],
   "source": [
    "loss_fn = nn.CrossEntropyLoss()\n",
    "optimizer = torch.optim.SGD(model.parameters(), lr = 1e-3)"
   ]
  },
  {
   "cell_type": "code",
   "execution_count": 76,
   "metadata": {},
   "outputs": [],
   "source": [
    "def train(dataloader, model, loss_fn, optimizer):\n",
    "    size = len(dataloader.dataset)\n",
    "    model.train()\n",
    "    for batch, (X,y) in enumerate(dataloader):\n",
    "        X, y = X.to(device), y.to(device)\n",
    "\n",
    "        pred = model(X)\n",
    "        loss = loss_fn(pred, y)\n",
    "\n",
    "        loss.backward()\n",
    "        optimizer.step()\n",
    "        optimizer.zero_grad()\n",
    "\n",
    "        if batch % 100 == 0:\n",
    "            loss, current = loss.item(), (batch + 1) * len(X)\n",
    "            print(f\"loss: {loss:>7f}  [{current:>5d}/{size:>5d}]\")"
   ]
  },
  {
   "cell_type": "code",
   "execution_count": 77,
   "metadata": {},
   "outputs": [],
   "source": [
    "def test(dataloader, model, loss_fn):\n",
    "    size = len(dataloader.dataset)\n",
    "    num_batches = len(dataloader)\n",
    "    model.eval()\n",
    "    test_loss, correct = 0, 0\n",
    "    with torch.no_grad():\n",
    "        for X, y in dataloader:\n",
    "            X, y = X.to(device), y.to(device)\n",
    "            pred = model(X)\n",
    "            test_loss += loss_fn(pred, y).item()\n",
    "            correct += (pred.argmax(1) == y).type(torch.float).sum().item()\n",
    "    test_loss /= num_batches\n",
    "    correct /= size\n",
    "    print(f\"Test Error: \\n Accuracy: {(100*correct):>0.1f}%, Avg loss: {test_loss:>8f} \\n\")"
   ]
  },
  {
   "cell_type": "code",
   "execution_count": 78,
   "metadata": {},
   "outputs": [
    {
     "name": "stdout",
     "output_type": "stream",
     "text": [
      "Epoch 1\n",
      "-------------------------------\n",
      "loss: 2.293512  [   64/60000]\n",
      "loss: 2.272576  [ 6464/60000]\n",
      "loss: 2.212132  [12864/60000]\n",
      "loss: 2.171756  [19264/60000]\n",
      "loss: 2.124242  [25664/60000]\n",
      "loss: 2.091428  [32064/60000]\n",
      "loss: 2.002129  [38464/60000]\n",
      "loss: 1.989480  [44864/60000]\n",
      "loss: 1.907143  [51264/60000]\n",
      "loss: 1.805509  [57664/60000]\n",
      "Test Error: \n",
      " Accuracy: 73.3%, Avg loss: 1.773039 \n",
      "\n",
      "Epoch 2\n",
      "-------------------------------\n",
      "loss: 1.761994  [   64/60000]\n",
      "loss: 1.708501  [ 6464/60000]\n",
      "loss: 1.577314  [12864/60000]\n",
      "loss: 1.361848  [19264/60000]\n",
      "loss: 1.406408  [25664/60000]\n",
      "loss: 1.387334  [32064/60000]\n",
      "loss: 1.261345  [38464/60000]\n",
      "loss: 1.095897  [44864/60000]\n",
      "loss: 1.028467  [51264/60000]\n",
      "loss: 0.936825  [57664/60000]\n",
      "Test Error: \n",
      " Accuracy: 82.1%, Avg loss: 0.955467 \n",
      "\n",
      "Epoch 3\n",
      "-------------------------------\n",
      "loss: 1.021145  [   64/60000]\n",
      "loss: 1.041398  [ 6464/60000]\n",
      "loss: 0.956907  [12864/60000]\n",
      "loss: 0.876271  [19264/60000]\n",
      "loss: 0.862506  [25664/60000]\n",
      "loss: 0.823978  [32064/60000]\n",
      "loss: 0.637390  [38464/60000]\n",
      "loss: 0.585583  [44864/60000]\n",
      "loss: 0.637408  [51264/60000]\n",
      "loss: 0.516957  [57664/60000]\n",
      "Test Error: \n",
      " Accuracy: 85.9%, Avg loss: 0.620184 \n",
      "\n",
      "Epoch 4\n",
      "-------------------------------\n",
      "loss: 0.610661  [   64/60000]\n",
      "loss: 0.570624  [ 6464/60000]\n",
      "loss: 0.624457  [12864/60000]\n",
      "loss: 0.528756  [19264/60000]\n",
      "loss: 0.681295  [25664/60000]\n",
      "loss: 0.467817  [32064/60000]\n",
      "loss: 0.505658  [38464/60000]\n",
      "loss: 0.523921  [44864/60000]\n",
      "loss: 0.482499  [51264/60000]\n",
      "loss: 0.500435  [57664/60000]\n",
      "Test Error: \n",
      " Accuracy: 87.5%, Avg loss: 0.491135 \n",
      "\n",
      "Epoch 5\n",
      "-------------------------------\n",
      "loss: 0.611292  [   64/60000]\n",
      "loss: 0.484872  [ 6464/60000]\n",
      "loss: 0.578771  [12864/60000]\n",
      "loss: 0.544295  [19264/60000]\n",
      "loss: 0.513132  [25664/60000]\n",
      "loss: 0.391462  [32064/60000]\n",
      "loss: 0.465543  [38464/60000]\n",
      "loss: 0.393878  [44864/60000]\n",
      "loss: 0.345569  [51264/60000]\n",
      "loss: 0.424958  [57664/60000]\n",
      "Test Error: \n",
      " Accuracy: 88.8%, Avg loss: 0.424117 \n",
      "\n",
      "Done!\n"
     ]
    }
   ],
   "source": [
    "epochs = 5 \n",
    "for t in range(epochs):\n",
    "    print(f\"Epoch {t+1}\\n-------------------------------\")\n",
    "    train(loader, model, loss_fn, optimizer)\n",
    "    test(loaderTest, model, loss_fn)\n",
    "print(\"Done!\")\n"
   ]
  },
  {
   "cell_type": "code",
   "execution_count": null,
   "metadata": {},
   "outputs": [],
   "source": []
  }
 ],
 "metadata": {
  "kernelspec": {
   "display_name": "Python 3",
   "language": "python",
   "name": "python3"
  },
  "language_info": {
   "codemirror_mode": {
    "name": "ipython",
    "version": 3
   },
   "file_extension": ".py",
   "mimetype": "text/x-python",
   "name": "python",
   "nbconvert_exporter": "python",
   "pygments_lexer": "ipython3",
   "version": "3.11.6"
  }
 },
 "nbformat": 4,
 "nbformat_minor": 2
}
