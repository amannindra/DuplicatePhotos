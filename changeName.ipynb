{
 "cells": [
  {
   "cell_type": "code",
   "execution_count": 3,
   "metadata": {},
   "outputs": [],
   "source": [
    "import os"
   ]
  },
  {
   "cell_type": "code",
   "execution_count": 4,
   "metadata": {},
   "outputs": [],
   "source": [
    "path = '/Users/aman/.cache/kagglehub/datasets/alessiocorrado99/animals10/versions/2/raw-img'"
   ]
  },
  {
   "cell_type": "code",
   "execution_count": 10,
   "metadata": {},
   "outputs": [
    {
     "name": "stdout",
     "output_type": "stream",
     "text": [
      "/Users/aman/.cache/kagglehub/datasets/alessiocorrado99/animals10/versions/2/raw-img/gallina\n",
      "/Users/aman/.cache/kagglehub/datasets/alessiocorrado99/animals10/versions/2/raw-img/ragno\n",
      "/Users/aman/.cache/kagglehub/datasets/alessiocorrado99/animals10/versions/2/raw-img/gatto\n",
      "/Users/aman/.cache/kagglehub/datasets/alessiocorrado99/animals10/versions/2/raw-img/farfalla\n",
      "/Users/aman/.cache/kagglehub/datasets/alessiocorrado99/animals10/versions/2/raw-img/mucca\n",
      "/Users/aman/.cache/kagglehub/datasets/alessiocorrado99/animals10/versions/2/raw-img/cavallo\n",
      "/Users/aman/.cache/kagglehub/datasets/alessiocorrado99/animals10/versions/2/raw-img/cane\n",
      "/Users/aman/.cache/kagglehub/datasets/alessiocorrado99/animals10/versions/2/raw-img/pecora\n",
      "/Users/aman/.cache/kagglehub/datasets/alessiocorrado99/animals10/versions/2/raw-img/scoiattolo\n",
      "/Users/aman/.cache/kagglehub/datasets/alessiocorrado99/animals10/versions/2/raw-img/elefante\n"
     ]
    }
   ],
   "source": [
    "for folder in os.listdir(path):\n",
    "    animal = os.path.join(path, folder)\n",
    "    print(animal)\n",
    "    number = 0\n",
    "\n",
    "    for image in os.listdir(animal):\n",
    "        number += 1\n",
    "        if(folder == \"gallina\"):\n",
    "            os.rename(os.path.join(animal, image), os.path.join(animal, f\"chicken_{number}.jpg\"))\n",
    "        elif(folder == \"ragno\"):\n",
    "            os.rename(os.path.join(animal, image), os.path.join(animal, f\"spider_{number}.jpg\"))\n",
    "        elif(folder == \"gatto\"):\n",
    "            os.rename(os.path.join(animal, image), os.path.join(animal, f\"cat_{number}.jpg\"))\n",
    "        elif(folder == \"cane\"):\n",
    "            os.rename(os.path.join(animal, image), os.path.join(animal, f\"dog_{number}.jpg\"))\n",
    "        elif(folder == \"pecora\"):\n",
    "            os.rename(os.path.join(animal, image), os.path.join(animal, f\"sheep_{number}.jpg\"))\n",
    "        elif(folder == \"scoiattolo\"):\n",
    "            os.rename(os.path.join(animal, image), os.path.join(animal, f\"squirrel_{number}.jpg\")) \n",
    "        elif(folder == \"elefante\"):\n",
    "            os.rename(os.path.join(animal, image), os.path.join(animal, f\"elephant_{number}.jpg\"))\n",
    "        elif(folder == \"farfalla\"):\n",
    "            os.rename(os.path.join(animal, image), os.path.join(animal, f\"butterflies_{number}.jpg\"))\n",
    "        elif(folder == \"cavallo\"):\n",
    "            os.rename(os.path.join(animal, image), os.path.join(animal, f\"horse_{number}.jpg\"))\n",
    "        elif(folder == \"mucca\"):\n",
    "            os.rename(os.path.join(animal, image), os.path.join(animal, f\"cow_{number}.jpg\"))\n",
    "        "
   ]
  },
  {
   "cell_type": "code",
   "execution_count": null,
   "metadata": {},
   "outputs": [],
   "source": []
  }
 ],
 "metadata": {
  "kernelspec": {
   "display_name": "Python 3",
   "language": "python",
   "name": "python3"
  },
  "language_info": {
   "codemirror_mode": {
    "name": "ipython",
    "version": 3
   },
   "file_extension": ".py",
   "mimetype": "text/x-python",
   "name": "python",
   "nbconvert_exporter": "python",
   "pygments_lexer": "ipython3",
   "version": "3.11.6"
  }
 },
 "nbformat": 4,
 "nbformat_minor": 2
}
